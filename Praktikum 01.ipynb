{
 "cells": [
  {
   "cell_type": "code",
   "execution_count": 1,
   "id": "hearing-authorization",
   "metadata": {},
   "outputs": [],
   "source": [
    "import numpy as np\n",
    "import cv2\n",
    "from matplotlib import pyplot as plt\n",
    "import matplotlib.image as mpimg\n",
    "import time\n",
    "from array import *"
   ]
  },
  {
   "cell_type": "code",
   "execution_count": 2,
   "id": "intermediate-syndrome",
   "metadata": {},
   "outputs": [],
   "source": [
    "def create_image():\n",
    "    img = np.zeros((512,512,3), np.uint8)\n",
    "    img = cv2.rectangle(img,(10,10),(500,500),(255,255,255),-1)\n",
    "    img = cv2.rectangle(img,(50,50),(110,110),(0,0,255),3)\n",
    "    img = cv2.rectangle(img,(150,150),(210,210),(0,0,255),-1)\n",
    "    img = cv2.circle(img,(300,100),50,(255,0,0),-1)\n",
    "    img = cv2.ellipse(img,(256,256),(100,50),0,0,180,255,-1)\n",
    "    #cv2.imshow('Gambar',img)\n",
    "    #cv2.waitKey(0)\n",
    "\n",
    "    img = np.zeros((512,512,3), np.uint8)\n",
    "    pts = np.array([[110,105],[220,130],[270,120],[350,110]], np.int32)\n",
    "    pts = pts.reshape((-1,1,2))\n",
    "    img = cv2.polylines(img,[pts],True,(0,255,255))\n",
    "    #cv2.imshow('Gambar',img)\n",
    "    #cv2.waitKey(0)\n",
    "\n",
    "    height = 500\n",
    "    width = 500\n",
    "    blank_image = np.zeros((height,width,3),np.uint8)\n",
    "    blank_image[:,0:width//2] = (255,0,0)\n",
    "    blank_image[:,width//2:width] = (0,255,0)\n",
    "    #cv2.imshow('Gambar',blank_image)\n",
    "    #cv2.waitKey(0)\n",
    "\n",
    "    height = 400\n",
    "    width = 400\n",
    "    img = np.zeros((height,width,3), np.uint8)\n",
    "    col1, row1, n = img.shape\n",
    "    print(row1,col1)\n",
    "    for y1 in range(0,width):\n",
    "        for x1 in range(0,height//2):\n",
    "            img[x1,y1]=[255,0,0]\n",
    "\n",
    "    for y1 in range(0,width):\n",
    "        for x1 in range(height//2,height):\n",
    "            img[x1,y1]=[255,255,255]\n",
    "\n",
    "    res = cv2.resize(img,None,fx=0.1,fy=0.1, interpolation=cv2.INTER_CUBIC)\n",
    "    col2, row2, n = res.shape\n",
    "    print(row2,col2)\n",
    "\n",
    "    plt.subplot(1,2,1),plt.imshow(img)\n",
    "    plt.title(\"Bendera\"), plt.xticks([]), plt.yticks([])\n",
    "    plt.subplot(1,2,2),plt.imshow(res)\n",
    "    plt.title(\"Resize\"), plt.xticks([]), plt.yticks([])\n",
    "    plt.show()\n",
    "    return"
   ]
  },
  {
   "cell_type": "code",
   "execution_count": 3,
   "id": "hollywood-roads",
   "metadata": {},
   "outputs": [
    {
     "name": "stdout",
     "output_type": "stream",
     "text": [
      "400 400\n",
      "40 40\n"
     ]
    },
    {
     "data": {
      "image/png": "[encoded data removed]",
      "text/plain": [
       "<Figure size 432x288 with 2 Axes>"
      ]
     },
     "metadata": {},
     "output_type": "display_data"
    }
   ],
   "source": [
    "create_image()"
   ]
  },
  {
   "cell_type": "code",
   "execution_count": null,
   "id": "detailed-checklist",
   "metadata": {},
   "outputs": [],
   "source": []
  }
 ],
 "metadata": {
  "kernelspec": {
   "display_name": "Python 3 (ipykernel)",
   "language": "python",
   "name": "python3"
  },
  "language_info": {
   "codemirror_mode": {
    "name": "ipython",
    "version": 3
   },
   "file_extension": ".py",
   "mimetype": "text/x-python",
   "name": "python",
   "nbconvert_exporter": "python",
   "pygments_lexer": "ipython3",
   "version": "3.8.0"
  }
 },
 "nbformat": 4,
 "nbformat_minor": 5
}
